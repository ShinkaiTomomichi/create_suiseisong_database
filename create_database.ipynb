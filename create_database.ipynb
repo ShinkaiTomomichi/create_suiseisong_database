{
 "cells": [
  {
   "cell_type": "code",
   "execution_count": 1,
   "metadata": {},
   "outputs": [],
   "source": [
    "# Pythonの基本ライブラリ\n",
    "import numpy as np\n",
    "import pandas as pd\n",
    "import matplotlib.pyplot as plt\n",
    "\n",
    "# ファイル操作\n",
    "import os\n",
    "\n",
    "# Jupyter上にHTMLを表示する\n",
    "from IPython.display import HTML\n",
    "\n",
    "# 自作モジュールのimport\n",
    "import util.create_wiki_data as create_wiki_data\n",
    "import util.annotate_another_data as annotate_another_data\n",
    "import util.annotate_another_data_auto as annotate_another_data_auto\n",
    "import util.filter_data as filter_data"
   ]
  },
  {
   "cell_type": "code",
   "execution_count": 2,
   "metadata": {},
   "outputs": [],
   "source": [
    "# wikiにある情報を取得\n",
    "streams = create_wiki_data.create_streams()\n",
    "songs = create_wiki_data.create_songs()"
   ]
  },
  {
   "cell_type": "code",
   "execution_count": 2,
   "metadata": {},
   "outputs": [],
   "source": [
    "# 既に作成済みのデータを取得\n",
    "base_df_path = 'data/streams.csv'\n",
    "base_df = pd.read_csv(base_df_path, header=0)"
   ]
  },
  {
   "cell_type": "code",
   "execution_count": 3,
   "metadata": {},
   "outputs": [],
   "source": [
    "# 念の為、バックアップを残しておく\n",
    "base_df_backup_path = 'data/streams_.csv'\n",
    "base_df.to_csv(base_df_backup_path, index=False)"
   ]
  },
  {
   "cell_type": "code",
   "execution_count": 5,
   "metadata": {},
   "outputs": [],
   "source": [
    "# バックアップから復元できるようにもしておく\n",
    "reboot = False\n",
    "if reboot:\n",
    "    override_path = 'data/streams_.csv'\n",
    "    base_df_backup = pd.read_csv(override_path, header=0)\n",
    "    base_df_backup.to_csv(base_df_path, index=False)"
   ]
  },
  {
   "cell_type": "code",
   "execution_count": 6,
   "metadata": {},
   "outputs": [],
   "source": [
    "# 追加するデータのデータベースを作成\n",
    "add_streams_path = 'data/add_streams.csv'\n",
    "if os.path.exists(add_streams_path):\n",
    "    add_streams = pd.read_csv(add_streams_path, header=0)\n",
    "else:\n",
    "    add_streams = streams.tail(5)\n",
    "    # Youtube API経由で日付けでフィルタリングも可能\n",
    "    # date = '2022-07-01' # dateはYYYY-mm-ddの形式で入力\n",
    "    # add_streams = annotate_another_data.filter_add_df(streams, date)\n",
    "    add_streams['check'] = np.zeros(add_streams.shape[0], dtype=bool)\n",
    "    add_streams.to_csv(add_streams_path, index=False)\n",
    "\n",
    "add_songs_path = 'data/add_songs.csv'\n",
    "if os.path.exists(add_songs_path):\n",
    "    add_songs = pd.read_csv(add_songs_path, header=0)\n",
    "else:\n",
    "    add_songs = songs\n",
    "    add_songs['check'] = np.zeros(add_songs.shape[0], dtype=bool)\n",
    "    add_songs.to_csv(add_songs_path, index=False)"
   ]
  },
  {
   "cell_type": "code",
   "execution_count": null,
   "metadata": {},
   "outputs": [],
   "source": [
    "# wikiから取得したstreamsの差分にアノテーションする\n",
    "annotate_another_data.annotate_another_data_streams(add_streams_path, base_df_path)"
   ]
  },
  {
   "cell_type": "code",
   "execution_count": null,
   "metadata": {},
   "outputs": [],
   "source": [
    "# wikiから取得したsongsの差分にアノテーションする\n",
    "annotate_another_data.annotate_another_data_songs(add_songs_path, base_df_path)"
   ]
  },
  {
   "cell_type": "code",
   "execution_count": 10,
   "metadata": {},
   "outputs": [
    {
     "name": "stdout",
     "output_type": "stream",
     "text": [
      "動画のURLを入力\n"
     ]
    },
    {
     "name": "stdin",
     "output_type": "stream",
     "text": [
      " https://www.youtube.com/watch?v=VsYtOSHzXHA\n"
     ]
    },
    {
     "name": "stdout",
     "output_type": "stream",
     "text": [
      "曲名を入力\n"
     ]
    },
    {
     "name": "stdin",
     "output_type": "stream",
     "text": [
      " ココロオドル\n"
     ]
    },
    {
     "name": "stdout",
     "output_type": "stream",
     "text": [
      "開始時刻を入力\n"
     ]
    },
    {
     "name": "stdin",
     "output_type": "stream",
     "text": [
      " 15m10\n"
     ]
    },
    {
     "name": "stdout",
     "output_type": "stream",
     "text": [
      "終了時刻候補: 0 (該当リンクをペーストボードにコピーしました)\n"
     ]
    },
    {
     "name": "stdin",
     "output_type": "stream",
     "text": [
      " 19m23\n"
     ]
    },
    {
     "name": "stdout",
     "output_type": "stream",
     "text": [
      "アーティスト名候補: 存在しませんでした\n"
     ]
    },
    {
     "name": "stdin",
     "output_type": "stream",
     "text": [
      " nobodyknows+\n"
     ]
    },
    {
     "name": "stdout",
     "output_type": "stream",
     "text": [
      "メンバーを,区切りで入力\n"
     ]
    },
    {
     "name": "stdin",
     "output_type": "stream",
     "text": [
      " 獅白ぼたん,戌神ころね,猫又おかゆ\n"
     ]
    },
    {
     "name": "stdout",
     "output_type": "stream",
     "text": [
      "stream,live3d,acappellaを01で入力\n"
     ]
    },
    {
     "name": "stdin",
     "output_type": "stream",
     "text": [
      " 110\n"
     ]
    },
    {
     "name": "stdout",
     "output_type": "stream",
     "text": [
      "動画のURLを入力\n"
     ]
    },
    {
     "ename": "KeyboardInterrupt",
     "evalue": "Interrupted by user",
     "output_type": "error",
     "traceback": [
      "\u001b[0;31m---------------------------------------------------------------------------\u001b[0m",
      "\u001b[0;31mKeyboardInterrupt\u001b[0m                         Traceback (most recent call last)",
      "\u001b[0;32m<ipython-input-10-73d06c982db9>\u001b[0m in \u001b[0;36m<module>\u001b[0;34m\u001b[0m\n\u001b[1;32m      3\u001b[0m \u001b[0;34m\u001b[0m\u001b[0m\n\u001b[1;32m      4\u001b[0m \u001b[0mlist_name\u001b[0m \u001b[0;34m=\u001b[0m \u001b[0;34m'8月のおすすめ'\u001b[0m\u001b[0;34m\u001b[0m\u001b[0;34m\u001b[0m\u001b[0m\n\u001b[0;32m----> 5\u001b[0;31m \u001b[0mannotate_another_data\u001b[0m\u001b[0;34m.\u001b[0m\u001b[0mannotate_another_data_manual\u001b[0m\u001b[0;34m(\u001b[0m\u001b[0mbase_df_path\u001b[0m\u001b[0;34m,\u001b[0m \u001b[0mlist_name\u001b[0m\u001b[0;34m)\u001b[0m\u001b[0;34m\u001b[0m\u001b[0;34m\u001b[0m\u001b[0m\n\u001b[0m",
      "\u001b[0;32m~/Desktop/python/create_suiseisong_database/util/annotate_another_data.py\u001b[0m in \u001b[0;36mannotate_another_data_manual\u001b[0;34m(base_path, list_name, suisei)\u001b[0m\n\u001b[1;32m    328\u001b[0m     \u001b[0;32mfor\u001b[0m \u001b[0mi\u001b[0m \u001b[0;32min\u001b[0m \u001b[0mrange\u001b[0m\u001b[0;34m(\u001b[0m\u001b[0;36m10000\u001b[0m\u001b[0;34m)\u001b[0m\u001b[0;34m:\u001b[0m\u001b[0;34m\u001b[0m\u001b[0;34m\u001b[0m\u001b[0m\n\u001b[1;32m    329\u001b[0m         \u001b[0mprint\u001b[0m\u001b[0;34m(\u001b[0m\u001b[0;34m'動画のURLを入力'\u001b[0m\u001b[0;34m)\u001b[0m\u001b[0;34m\u001b[0m\u001b[0;34m\u001b[0m\u001b[0m\n\u001b[0;32m--> 330\u001b[0;31m         \u001b[0minput1\u001b[0m \u001b[0;34m=\u001b[0m \u001b[0minput\u001b[0m\u001b[0;34m(\u001b[0m\u001b[0;34m)\u001b[0m\u001b[0;34m\u001b[0m\u001b[0;34m\u001b[0m\u001b[0m\n\u001b[0m\u001b[1;32m    331\u001b[0m         \u001b[0mvideo_id\u001b[0m \u001b[0;34m=\u001b[0m \u001b[0mget_videoid\u001b[0m\u001b[0;34m(\u001b[0m\u001b[0minput1\u001b[0m\u001b[0;34m)\u001b[0m\u001b[0;34m\u001b[0m\u001b[0;34m\u001b[0m\u001b[0m\n\u001b[1;32m    332\u001b[0m \u001b[0;34m\u001b[0m\u001b[0m\n",
      "\u001b[0;32m~/opt/anaconda3/envs/study-youtube/lib/python3.7/site-packages/ipykernel/kernelbase.py\u001b[0m in \u001b[0;36mraw_input\u001b[0;34m(self, prompt)\u001b[0m\n\u001b[1;32m    861\u001b[0m             \u001b[0mself\u001b[0m\u001b[0;34m.\u001b[0m\u001b[0m_parent_ident\u001b[0m\u001b[0;34m,\u001b[0m\u001b[0;34m\u001b[0m\u001b[0;34m\u001b[0m\u001b[0m\n\u001b[1;32m    862\u001b[0m             \u001b[0mself\u001b[0m\u001b[0;34m.\u001b[0m\u001b[0m_parent_header\u001b[0m\u001b[0;34m,\u001b[0m\u001b[0;34m\u001b[0m\u001b[0;34m\u001b[0m\u001b[0m\n\u001b[0;32m--> 863\u001b[0;31m             \u001b[0mpassword\u001b[0m\u001b[0;34m=\u001b[0m\u001b[0;32mFalse\u001b[0m\u001b[0;34m,\u001b[0m\u001b[0;34m\u001b[0m\u001b[0;34m\u001b[0m\u001b[0m\n\u001b[0m\u001b[1;32m    864\u001b[0m         )\n\u001b[1;32m    865\u001b[0m \u001b[0;34m\u001b[0m\u001b[0m\n",
      "\u001b[0;32m~/opt/anaconda3/envs/study-youtube/lib/python3.7/site-packages/ipykernel/kernelbase.py\u001b[0m in \u001b[0;36m_input_request\u001b[0;34m(self, prompt, ident, parent, password)\u001b[0m\n\u001b[1;32m    902\u001b[0m             \u001b[0;32mexcept\u001b[0m \u001b[0mKeyboardInterrupt\u001b[0m\u001b[0;34m:\u001b[0m\u001b[0;34m\u001b[0m\u001b[0;34m\u001b[0m\u001b[0m\n\u001b[1;32m    903\u001b[0m                 \u001b[0;31m# re-raise KeyboardInterrupt, to truncate traceback\u001b[0m\u001b[0;34m\u001b[0m\u001b[0;34m\u001b[0m\u001b[0;34m\u001b[0m\u001b[0m\n\u001b[0;32m--> 904\u001b[0;31m                 \u001b[0;32mraise\u001b[0m \u001b[0mKeyboardInterrupt\u001b[0m\u001b[0;34m(\u001b[0m\u001b[0;34m\"Interrupted by user\"\u001b[0m\u001b[0;34m)\u001b[0m \u001b[0;32mfrom\u001b[0m \u001b[0;32mNone\u001b[0m\u001b[0;34m\u001b[0m\u001b[0;34m\u001b[0m\u001b[0m\n\u001b[0m\u001b[1;32m    905\u001b[0m             \u001b[0;32mexcept\u001b[0m \u001b[0mException\u001b[0m \u001b[0;32mas\u001b[0m \u001b[0me\u001b[0m\u001b[0;34m:\u001b[0m\u001b[0;34m\u001b[0m\u001b[0;34m\u001b[0m\u001b[0m\n\u001b[1;32m    906\u001b[0m                 \u001b[0mself\u001b[0m\u001b[0;34m.\u001b[0m\u001b[0mlog\u001b[0m\u001b[0;34m.\u001b[0m\u001b[0mwarning\u001b[0m\u001b[0;34m(\u001b[0m\u001b[0;34m\"Invalid Message:\"\u001b[0m\u001b[0;34m,\u001b[0m \u001b[0mexc_info\u001b[0m\u001b[0;34m=\u001b[0m\u001b[0;32mTrue\u001b[0m\u001b[0;34m)\u001b[0m\u001b[0;34m\u001b[0m\u001b[0;34m\u001b[0m\u001b[0m\n",
      "\u001b[0;31mKeyboardInterrupt\u001b[0m: Interrupted by user"
     ]
    }
   ],
   "source": [
    "# 手動で好きな動画にアノテーションする\n",
    "# とりあえず5~8月のおすすめを探す旅に出る\n",
    "\n",
    "list_name = '8月のおすすめ'\n",
    "annotate_another_data.annotate_another_data_manual(base_df_path, list_name)"
   ]
  },
  {
   "cell_type": "code",
   "execution_count": 11,
   "metadata": {},
   "outputs": [
    {
     "data": {
      "text/html": [
       "<div style=\"float:left;\"><img src=\"http://img.youtube.com/vi/VsYtOSHzXHA/sddefault.jpg \"alt=\"取得できませんでした\" width=\"100\"><a href=\"https://www.youtube.com/watch?v=VsYtOSHzXHA\">  VsYtOSHzXHA  </a></div>"
      ],
      "text/plain": [
       "<IPython.core.display.HTML object>"
      ]
     },
     "execution_count": 11,
     "metadata": {},
     "output_type": "execute_result"
    }
   ],
   "source": [
    "# 追加する動画のサムネ一覧を表示\n",
    "# dateが0のもののみ表示しています\n",
    "HTML(annotate_another_data_auto.output_html_diff_video(base_df_path))"
   ]
  },
  {
   "cell_type": "code",
   "execution_count": 12,
   "metadata": {},
   "outputs": [],
   "source": [
    "# 必要そうな追加情報を自動付与する\n",
    "annotate_another_data_auto.annotate_another_data_auto(base_df_path)"
   ]
  },
  {
   "cell_type": "code",
   "execution_count": 13,
   "metadata": {},
   "outputs": [],
   "source": [
    "# 不適当なデータを排除する\n",
    "\n",
    "# 30秒以下の動画は削除\n",
    "filter_data.filter_duration(base_df_path)\n",
    "\n",
    "# 今後はホワイトリストに入ったchannelID以外外すなどが考えられる"
   ]
  },
  {
   "cell_type": "code",
   "execution_count": 14,
   "metadata": {},
   "outputs": [],
   "source": [
    "# 暫定的にjson形式で保存する\n",
    "base_df_for_save = pd.read_csv(base_df_path, header=0)\n",
    "\n",
    "output_path = 'data/suise_song.csv'\n",
    "base_df_for_save.to_csv(output_path, index=False)\n",
    "output_path = 'data/suisei_songs.json'\n",
    "base_df_for_save.to_json(output_path, orient='records')"
   ]
  },
  {
   "cell_type": "markdown",
   "metadata": {},
   "source": [
    "## 以下では必要に応じた修正を実施する"
   ]
  },
  {
   "cell_type": "code",
   "execution_count": 31,
   "metadata": {},
   "outputs": [],
   "source": [
    "# ミスって削除してしまった分を回収\n",
    "tmp = pd.read_csv('data/tmp.csv', header=0)\n",
    "identifier_base = 684\n",
    "data = []\n",
    "for i, row in tmp.iterrows():            \n",
    "    identifier = identifier_base + i\n",
    "    song_name = row['SongNameRemake']\n",
    "    artist_name = row['ArtistNameRemake']\n",
    "    start_time = row['StartTimeRemake']\n",
    "    end_time = row['EndTimeRemake']\n",
    "    members = row['Members']\n",
    "    video_id = row['VideoID']\n",
    "    date = row['Date']\n",
    "    collaboration = row['Collaboration']\n",
    "    acappella = row['Acappella']\n",
    "    live3d = row['3DLive']\n",
    "    suisei = True\n",
    "    stream = True\n",
    "    listtype = 'None'\n",
    "    check = True\n",
    "\n",
    "    data.append([identifier, song_name, artist_name, start_time, end_time,\n",
    "                 members, video_id, date, collaboration, acappella,\n",
    "                 live3d, suisei, stream, listtype, check])\n",
    "    \n",
    "df_tmp = pd.DataFrame(data=np.array(data), \n",
    "                      columns=['id', 'songname', 'artistname', 'starttime', 'endtime', \n",
    "                               'members', 'videoid', 'date', 'collaboration', 'acappella', \n",
    "                               'live3d', 'suisei', 'stream', 'listtype', 'check'])\n",
    "\n",
    "base_df = pd.concat([base_df, df_tmp])\n",
    "base_df.to_csv('data/streams.csv', index=False)"
   ]
  },
  {
   "cell_type": "code",
   "execution_count": 38,
   "metadata": {},
   "outputs": [],
   "source": [
    "# 名称の表記揺れを削除\n",
    "base_df_path = 'data/streams.csv'\n",
    "base_df = pd.read_csv(base_df_path, header=0)\n",
    "\n",
    "song_names = np.array(base_df['songname'])\n",
    "artist_names = np.array(base_df['artistname'])\n",
    "\n",
    "unique_song_names = np.unique(song_names)\n",
    "# print(unique_song_names)\n",
    "\n",
    "unique_artist_names = np.unique(artist_names)\n",
    "# print(unique_artist_names)"
   ]
  },
  {
   "cell_type": "code",
   "execution_count": 12,
   "metadata": {},
   "outputs": [],
   "source": [
    "# Quota上限オーバーでタイムスタンプ取得に失敗したデータをリセット\n",
    "base_df_ = pd.read_csv('data/streams.csv', header=0)\n",
    "dates = np.array(base_df_['date'])\n",
    "dates[742:] = 0\n",
    "base_df_['date'] = dates\n",
    "base_df_.to_csv('data/streams.csv', index=False)"
   ]
  }
 ],
 "metadata": {
  "kernelspec": {
   "display_name": "study-youtube",
   "language": "python",
   "name": "study-youtube"
  },
  "language_info": {
   "codemirror_mode": {
    "name": "ipython",
    "version": 3
   },
   "file_extension": ".py",
   "mimetype": "text/x-python",
   "name": "python",
   "nbconvert_exporter": "python",
   "pygments_lexer": "ipython3",
   "version": "3.7.10"
  }
 },
 "nbformat": 4,
 "nbformat_minor": 4
}
